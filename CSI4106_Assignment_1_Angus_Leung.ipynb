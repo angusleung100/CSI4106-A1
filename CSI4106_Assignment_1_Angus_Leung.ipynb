{
  "cells": [
    {
      "cell_type": "markdown",
      "metadata": {
        "id": "SPeulvp-meob"
      },
      "source": [
        "**ASSIGNMENT 1 - EMPIRICAL STUDY OF KNAPSACK PROBLEM**"
      ]
    },
    {
      "cell_type": "markdown",
      "metadata": {
        "id": "Yq6OGiMX_da0"
      },
      "source": [
        "**2. Knapsack Problem**\n",
        "\n",
        "The Knapsack problem is a popular problem in the fundamentals of Artificial Intelligence and optimization in searching. It involves a list of objects with different prices and weights. The goal of the problem is to fit as much value in objects into the knapsack without going over the capacity.\n",
        "\n",
        "To take on this problem, optimization is done through searching and trials by the computer."
      ]
    },
    {
      "cell_type": "markdown",
      "metadata": {
        "id": "C8vwHE0G_iOG"
      },
      "source": [
        "**3. Dataset**\n",
        "\n",
        "Dataset is provided by Kaggle.com. It can be downloaded here: https://www.kaggle.com/datasets/warcoder/knapsack-problem?resource=download\n",
        "\n",
        "The dataset according to Kaggle, is a Public Domain dataset with over 9000 rows in a CSV file."
      ]
    },
    {
      "cell_type": "markdown",
      "metadata": {
        "id": "OZTWy1qN2BzY"
      },
      "source": [
        "**Import important libraries**"
      ]
    },
    {
      "cell_type": "markdown",
      "metadata": {
        "id": "f2Eeke4Z_EkW"
      },
      "source": [
        "**1. Group Description**\n",
        "\n",
        "Group Number: 47\n",
        "\n",
        "Member Names: Angus Leung\n",
        "\n",
        "Member Student Numbers: 300110509"
      ]
    },
    {
      "cell_type": "code",
      "execution_count": null,
      "metadata": {
        "id": "GmP1buROhaOx"
      },
      "outputs": [],
      "source": [
        "import pandas as pd\n",
        "import itertools\n",
        "import numpy as np\n",
        "\n",
        "import time"
      ]
    },
    {
      "cell_type": "markdown",
      "metadata": {
        "id": "wNJyoeCz00Kr"
      },
      "source": [
        "**Read Dataset**\n",
        "\n",
        "As outlined in the project description, it should be possible for the correctors to execute your notebook without requiring any downloads.\n",
        "\n",
        "To facilitate access to the dataset without the need for downloads, you can upload it to a public GitHub repository and provide a link to the raw version of the dataset.\n",
        "\n",
        "The link to the raw version is as follows:\n",
        "*https://raw.githubusercontent.com/GITHUB_USERNAME/REPOSITORY_NAME/main/DATASETNAME.csv*\n",
        "\n",
        "For example:\n",
        "\n",
        "https://raw.githubusercontent.com/baharin/KnapsackProblem/main/knapsack_5_items.csv\n",
        "\n",
        "Now provide the link to YOUR dataset and read the dataset using pandas:"
      ]
    },
    {
      "cell_type": "code",
      "execution_count": null,
      "metadata": {
        "id": "BrhpM-HwhaOy"
      },
      "outputs": [],
      "source": [
        "url = \"https://raw.githubusercontent.com/angusleung100/CSI4106-A1/main/knapsack_5_items.csv\" #provide the link to the raw version of dataset. You *need* to provide a link to *your own* github repository. DO NOT use the link that is provided as an example.\n",
        "\n",
        "dataset = pd.read_csv(url)"
      ]
    },
    {
      "cell_type": "markdown",
      "metadata": {
        "id": "4Drc71BY2a7w"
      },
      "source": [
        "Let's see what are the columns of the dataset? :"
      ]
    },
    {
      "cell_type": "code",
      "execution_count": null,
      "metadata": {
        "colab": {
          "base_uri": "https://localhost:8080/"
        },
        "id": "pGxZXmhNhaOz",
        "outputId": "28575bbc-ab38-4e3d-90c9-0b87c2a4aa25"
      },
      "outputs": [
        {
          "output_type": "execute_result",
          "data": {
            "text/plain": [
              "Index(['Weights', 'Prices', 'Capacity', 'Best picks', 'Best price'], dtype='object')"
            ]
          },
          "metadata": {},
          "execution_count": 5
        }
      ],
      "source": [
        "dataset.columns"
      ]
    },
    {
      "cell_type": "markdown",
      "metadata": {
        "id": "aNZaqcCT2w-T"
      },
      "source": [
        "As we expected, we have columns for weights, costs, capacity, best picks and best price for all the instances."
      ]
    },
    {
      "cell_type": "markdown",
      "metadata": {
        "id": "jkokOHRj2kgZ"
      },
      "source": [
        "Now let's see the first 10 entries (rows):"
      ]
    },
    {
      "cell_type": "code",
      "execution_count": null,
      "metadata": {
        "colab": {
          "base_uri": "https://localhost:8080/",
          "height": 363
        },
        "id": "0xqfPrBEhaOz",
        "outputId": "8f9d412b-baf2-4888-c290-a450cf545de3"
      },
      "outputs": [
        {
          "output_type": "execute_result",
          "data": {
            "text/plain": [
              "            Weights            Prices  Capacity        Best picks  Best price\n",
              "0  [46 40 42 38 10]  [12 19 19 15  8]        40  [0. 1. 0. 0. 0.]        19.0\n",
              "1  [11 31  4  6  7]  [ 2  8 18 16  3]        64  [1. 1. 1. 1. 1.]        47.0\n",
              "2  [32 49 27 37 24]  [19 16 16  4  1]        87  [1. 0. 1. 0. 1.]        36.0\n",
              "3  [20 35 22 23 16]  [19 17 19  9  1]        21  [1. 0. 0. 0. 0.]        19.0\n",
              "4  [ 7 12 19 13 20]  [10 11 18 15  5]        50  [0. 1. 1. 1. 0.]        44.0\n",
              "5  [27 10 25 25  7]  [13 19  7 16  3]        66  [1. 1. 0. 1. 0.]        48.0\n",
              "6  [21  2 33 45 26]  [ 1 14 10  6 13]        80  [0. 1. 1. 0. 1.]        37.0\n",
              "7  [37 27 39 14 25]  [18  7 15  4 13]        35  [0. 0. 0. 0. 1.]        13.0\n",
              "8  [ 1 48  4 23 39]  [ 9  4 10 16 12]        51  [1. 0. 1. 1. 0.]        35.0\n",
              "9  [ 4  3 22  9 32]  [14  6  3 17  8]        53  [1. 1. 0. 1. 1.]        45.0"
            ],
            "text/html": [
              "\n",
              "  <div id=\"df-21c1ffd4-8513-43d6-aa35-f65cf4635f70\" class=\"colab-df-container\">\n",
              "    <div>\n",
              "<style scoped>\n",
              "    .dataframe tbody tr th:only-of-type {\n",
              "        vertical-align: middle;\n",
              "    }\n",
              "\n",
              "    .dataframe tbody tr th {\n",
              "        vertical-align: top;\n",
              "    }\n",
              "\n",
              "    .dataframe thead th {\n",
              "        text-align: right;\n",
              "    }\n",
              "</style>\n",
              "<table border=\"1\" class=\"dataframe\">\n",
              "  <thead>\n",
              "    <tr style=\"text-align: right;\">\n",
              "      <th></th>\n",
              "      <th>Weights</th>\n",
              "      <th>Prices</th>\n",
              "      <th>Capacity</th>\n",
              "      <th>Best picks</th>\n",
              "      <th>Best price</th>\n",
              "    </tr>\n",
              "  </thead>\n",
              "  <tbody>\n",
              "    <tr>\n",
              "      <th>0</th>\n",
              "      <td>[46 40 42 38 10]</td>\n",
              "      <td>[12 19 19 15  8]</td>\n",
              "      <td>40</td>\n",
              "      <td>[0. 1. 0. 0. 0.]</td>\n",
              "      <td>19.0</td>\n",
              "    </tr>\n",
              "    <tr>\n",
              "      <th>1</th>\n",
              "      <td>[11 31  4  6  7]</td>\n",
              "      <td>[ 2  8 18 16  3]</td>\n",
              "      <td>64</td>\n",
              "      <td>[1. 1. 1. 1. 1.]</td>\n",
              "      <td>47.0</td>\n",
              "    </tr>\n",
              "    <tr>\n",
              "      <th>2</th>\n",
              "      <td>[32 49 27 37 24]</td>\n",
              "      <td>[19 16 16  4  1]</td>\n",
              "      <td>87</td>\n",
              "      <td>[1. 0. 1. 0. 1.]</td>\n",
              "      <td>36.0</td>\n",
              "    </tr>\n",
              "    <tr>\n",
              "      <th>3</th>\n",
              "      <td>[20 35 22 23 16]</td>\n",
              "      <td>[19 17 19  9  1]</td>\n",
              "      <td>21</td>\n",
              "      <td>[1. 0. 0. 0. 0.]</td>\n",
              "      <td>19.0</td>\n",
              "    </tr>\n",
              "    <tr>\n",
              "      <th>4</th>\n",
              "      <td>[ 7 12 19 13 20]</td>\n",
              "      <td>[10 11 18 15  5]</td>\n",
              "      <td>50</td>\n",
              "      <td>[0. 1. 1. 1. 0.]</td>\n",
              "      <td>44.0</td>\n",
              "    </tr>\n",
              "    <tr>\n",
              "      <th>5</th>\n",
              "      <td>[27 10 25 25  7]</td>\n",
              "      <td>[13 19  7 16  3]</td>\n",
              "      <td>66</td>\n",
              "      <td>[1. 1. 0. 1. 0.]</td>\n",
              "      <td>48.0</td>\n",
              "    </tr>\n",
              "    <tr>\n",
              "      <th>6</th>\n",
              "      <td>[21  2 33 45 26]</td>\n",
              "      <td>[ 1 14 10  6 13]</td>\n",
              "      <td>80</td>\n",
              "      <td>[0. 1. 1. 0. 1.]</td>\n",
              "      <td>37.0</td>\n",
              "    </tr>\n",
              "    <tr>\n",
              "      <th>7</th>\n",
              "      <td>[37 27 39 14 25]</td>\n",
              "      <td>[18  7 15  4 13]</td>\n",
              "      <td>35</td>\n",
              "      <td>[0. 0. 0. 0. 1.]</td>\n",
              "      <td>13.0</td>\n",
              "    </tr>\n",
              "    <tr>\n",
              "      <th>8</th>\n",
              "      <td>[ 1 48  4 23 39]</td>\n",
              "      <td>[ 9  4 10 16 12]</td>\n",
              "      <td>51</td>\n",
              "      <td>[1. 0. 1. 1. 0.]</td>\n",
              "      <td>35.0</td>\n",
              "    </tr>\n",
              "    <tr>\n",
              "      <th>9</th>\n",
              "      <td>[ 4  3 22  9 32]</td>\n",
              "      <td>[14  6  3 17  8]</td>\n",
              "      <td>53</td>\n",
              "      <td>[1. 1. 0. 1. 1.]</td>\n",
              "      <td>45.0</td>\n",
              "    </tr>\n",
              "  </tbody>\n",
              "</table>\n",
              "</div>\n",
              "    <div class=\"colab-df-buttons\">\n",
              "\n",
              "  <div class=\"colab-df-container\">\n",
              "    <button class=\"colab-df-convert\" onclick=\"convertToInteractive('df-21c1ffd4-8513-43d6-aa35-f65cf4635f70')\"\n",
              "            title=\"Convert this dataframe to an interactive table.\"\n",
              "            style=\"display:none;\">\n",
              "\n",
              "  <svg xmlns=\"http://www.w3.org/2000/svg\" height=\"24px\" viewBox=\"0 -960 960 960\">\n",
              "    <path d=\"M120-120v-720h720v720H120Zm60-500h600v-160H180v160Zm220 220h160v-160H400v160Zm0 220h160v-160H400v160ZM180-400h160v-160H180v160Zm440 0h160v-160H620v160ZM180-180h160v-160H180v160Zm440 0h160v-160H620v160Z\"/>\n",
              "  </svg>\n",
              "    </button>\n",
              "\n",
              "  <style>\n",
              "    .colab-df-container {\n",
              "      display:flex;\n",
              "      gap: 12px;\n",
              "    }\n",
              "\n",
              "    .colab-df-convert {\n",
              "      background-color: #E8F0FE;\n",
              "      border: none;\n",
              "      border-radius: 50%;\n",
              "      cursor: pointer;\n",
              "      display: none;\n",
              "      fill: #1967D2;\n",
              "      height: 32px;\n",
              "      padding: 0 0 0 0;\n",
              "      width: 32px;\n",
              "    }\n",
              "\n",
              "    .colab-df-convert:hover {\n",
              "      background-color: #E2EBFA;\n",
              "      box-shadow: 0px 1px 2px rgba(60, 64, 67, 0.3), 0px 1px 3px 1px rgba(60, 64, 67, 0.15);\n",
              "      fill: #174EA6;\n",
              "    }\n",
              "\n",
              "    .colab-df-buttons div {\n",
              "      margin-bottom: 4px;\n",
              "    }\n",
              "\n",
              "    [theme=dark] .colab-df-convert {\n",
              "      background-color: #3B4455;\n",
              "      fill: #D2E3FC;\n",
              "    }\n",
              "\n",
              "    [theme=dark] .colab-df-convert:hover {\n",
              "      background-color: #434B5C;\n",
              "      box-shadow: 0px 1px 3px 1px rgba(0, 0, 0, 0.15);\n",
              "      filter: drop-shadow(0px 1px 2px rgba(0, 0, 0, 0.3));\n",
              "      fill: #FFFFFF;\n",
              "    }\n",
              "  </style>\n",
              "\n",
              "    <script>\n",
              "      const buttonEl =\n",
              "        document.querySelector('#df-21c1ffd4-8513-43d6-aa35-f65cf4635f70 button.colab-df-convert');\n",
              "      buttonEl.style.display =\n",
              "        google.colab.kernel.accessAllowed ? 'block' : 'none';\n",
              "\n",
              "      async function convertToInteractive(key) {\n",
              "        const element = document.querySelector('#df-21c1ffd4-8513-43d6-aa35-f65cf4635f70');\n",
              "        const dataTable =\n",
              "          await google.colab.kernel.invokeFunction('convertToInteractive',\n",
              "                                                    [key], {});\n",
              "        if (!dataTable) return;\n",
              "\n",
              "        const docLinkHtml = 'Like what you see? Visit the ' +\n",
              "          '<a target=\"_blank\" href=https://colab.research.google.com/notebooks/data_table.ipynb>data table notebook</a>'\n",
              "          + ' to learn more about interactive tables.';\n",
              "        element.innerHTML = '';\n",
              "        dataTable['output_type'] = 'display_data';\n",
              "        await google.colab.output.renderOutput(dataTable, element);\n",
              "        const docLink = document.createElement('div');\n",
              "        docLink.innerHTML = docLinkHtml;\n",
              "        element.appendChild(docLink);\n",
              "      }\n",
              "    </script>\n",
              "  </div>\n",
              "\n",
              "\n",
              "<div id=\"df-c92eaef7-c507-4410-ab31-e91e0d1e40ab\">\n",
              "  <button class=\"colab-df-quickchart\" onclick=\"quickchart('df-c92eaef7-c507-4410-ab31-e91e0d1e40ab')\"\n",
              "            title=\"Suggest charts.\"\n",
              "            style=\"display:none;\">\n",
              "\n",
              "<svg xmlns=\"http://www.w3.org/2000/svg\" height=\"24px\"viewBox=\"0 0 24 24\"\n",
              "     width=\"24px\">\n",
              "    <g>\n",
              "        <path d=\"M19 3H5c-1.1 0-2 .9-2 2v14c0 1.1.9 2 2 2h14c1.1 0 2-.9 2-2V5c0-1.1-.9-2-2-2zM9 17H7v-7h2v7zm4 0h-2V7h2v10zm4 0h-2v-4h2v4z\"/>\n",
              "    </g>\n",
              "</svg>\n",
              "  </button>\n",
              "\n",
              "<style>\n",
              "  .colab-df-quickchart {\n",
              "      --bg-color: #E8F0FE;\n",
              "      --fill-color: #1967D2;\n",
              "      --hover-bg-color: #E2EBFA;\n",
              "      --hover-fill-color: #174EA6;\n",
              "      --disabled-fill-color: #AAA;\n",
              "      --disabled-bg-color: #DDD;\n",
              "  }\n",
              "\n",
              "  [theme=dark] .colab-df-quickchart {\n",
              "      --bg-color: #3B4455;\n",
              "      --fill-color: #D2E3FC;\n",
              "      --hover-bg-color: #434B5C;\n",
              "      --hover-fill-color: #FFFFFF;\n",
              "      --disabled-bg-color: #3B4455;\n",
              "      --disabled-fill-color: #666;\n",
              "  }\n",
              "\n",
              "  .colab-df-quickchart {\n",
              "    background-color: var(--bg-color);\n",
              "    border: none;\n",
              "    border-radius: 50%;\n",
              "    cursor: pointer;\n",
              "    display: none;\n",
              "    fill: var(--fill-color);\n",
              "    height: 32px;\n",
              "    padding: 0;\n",
              "    width: 32px;\n",
              "  }\n",
              "\n",
              "  .colab-df-quickchart:hover {\n",
              "    background-color: var(--hover-bg-color);\n",
              "    box-shadow: 0 1px 2px rgba(60, 64, 67, 0.3), 0 1px 3px 1px rgba(60, 64, 67, 0.15);\n",
              "    fill: var(--button-hover-fill-color);\n",
              "  }\n",
              "\n",
              "  .colab-df-quickchart-complete:disabled,\n",
              "  .colab-df-quickchart-complete:disabled:hover {\n",
              "    background-color: var(--disabled-bg-color);\n",
              "    fill: var(--disabled-fill-color);\n",
              "    box-shadow: none;\n",
              "  }\n",
              "\n",
              "  .colab-df-spinner {\n",
              "    border: 2px solid var(--fill-color);\n",
              "    border-color: transparent;\n",
              "    border-bottom-color: var(--fill-color);\n",
              "    animation:\n",
              "      spin 1s steps(1) infinite;\n",
              "  }\n",
              "\n",
              "  @keyframes spin {\n",
              "    0% {\n",
              "      border-color: transparent;\n",
              "      border-bottom-color: var(--fill-color);\n",
              "      border-left-color: var(--fill-color);\n",
              "    }\n",
              "    20% {\n",
              "      border-color: transparent;\n",
              "      border-left-color: var(--fill-color);\n",
              "      border-top-color: var(--fill-color);\n",
              "    }\n",
              "    30% {\n",
              "      border-color: transparent;\n",
              "      border-left-color: var(--fill-color);\n",
              "      border-top-color: var(--fill-color);\n",
              "      border-right-color: var(--fill-color);\n",
              "    }\n",
              "    40% {\n",
              "      border-color: transparent;\n",
              "      border-right-color: var(--fill-color);\n",
              "      border-top-color: var(--fill-color);\n",
              "    }\n",
              "    60% {\n",
              "      border-color: transparent;\n",
              "      border-right-color: var(--fill-color);\n",
              "    }\n",
              "    80% {\n",
              "      border-color: transparent;\n",
              "      border-right-color: var(--fill-color);\n",
              "      border-bottom-color: var(--fill-color);\n",
              "    }\n",
              "    90% {\n",
              "      border-color: transparent;\n",
              "      border-bottom-color: var(--fill-color);\n",
              "    }\n",
              "  }\n",
              "</style>\n",
              "\n",
              "  <script>\n",
              "    async function quickchart(key) {\n",
              "      const quickchartButtonEl =\n",
              "        document.querySelector('#' + key + ' button');\n",
              "      quickchartButtonEl.disabled = true;  // To prevent multiple clicks.\n",
              "      quickchartButtonEl.classList.add('colab-df-spinner');\n",
              "      try {\n",
              "        const charts = await google.colab.kernel.invokeFunction(\n",
              "            'suggestCharts', [key], {});\n",
              "      } catch (error) {\n",
              "        console.error('Error during call to suggestCharts:', error);\n",
              "      }\n",
              "      quickchartButtonEl.classList.remove('colab-df-spinner');\n",
              "      quickchartButtonEl.classList.add('colab-df-quickchart-complete');\n",
              "    }\n",
              "    (() => {\n",
              "      let quickchartButtonEl =\n",
              "        document.querySelector('#df-c92eaef7-c507-4410-ab31-e91e0d1e40ab button');\n",
              "      quickchartButtonEl.style.display =\n",
              "        google.colab.kernel.accessAllowed ? 'block' : 'none';\n",
              "    })();\n",
              "  </script>\n",
              "</div>\n",
              "    </div>\n",
              "  </div>\n"
            ]
          },
          "metadata": {},
          "execution_count": 6
        }
      ],
      "source": [
        "dataset.head(10)"
      ]
    },
    {
      "cell_type": "markdown",
      "metadata": {
        "id": "1dq9VpZh2r2A"
      },
      "source": [
        "**Preprocessing Step**\n",
        "\n",
        "Typically, the initial step in any project that involves reading and handling data is data preprocessing and cleansing.\n",
        "\n",
        "In our dataset, we expect the entries in the \"Weights,\" \"Prices,\" and \"Best Picks\" columns to be in the form of arrays of floats or integers, like this: [45, 40, 42, 38, 10]\n",
        "\n",
        "However, when you read each entry using pandas, they will be in a form of a string: \"[45 40 42 38 10]\"\n",
        "\n",
        "So we need to convert these strings into \"arrays of floats or integers.\" You can utilize the function provided below for this purpose:\n"
      ]
    },
    {
      "cell_type": "code",
      "execution_count": null,
      "metadata": {
        "id": "BmUtgrBchaOz"
      },
      "outputs": [],
      "source": [
        "def string_to_list(string):\n",
        "\n",
        "  string_list = string.strip('[]').split()\n",
        "\n",
        "  float_list = [float(element) for element in string_list]\n",
        "\n",
        "  return float_list"
      ]
    },
    {
      "cell_type": "markdown",
      "metadata": {
        "id": "CP1nkMb27A4n"
      },
      "source": [
        "Furthermore, it's possible that certain rows in the dataset contain empty values in specific columns. We also aim to eliminate these rows as they do not provide any useful information. We use dropna() function to do so:"
      ]
    },
    {
      "cell_type": "code",
      "execution_count": null,
      "metadata": {
        "colab": {
          "base_uri": "https://localhost:8080/"
        },
        "id": "LT_iYgxhhaO0",
        "outputId": "e637b09f-be3d-4932-b59a-3f745273a039"
      },
      "outputs": [
        {
          "output_type": "stream",
          "name": "stderr",
          "text": [
            "<ipython-input-8-833fb421dc49>:5: SettingWithCopyWarning: \n",
            "A value is trying to be set on a copy of a slice from a DataFrame.\n",
            "Try using .loc[row_indexer,col_indexer] = value instead\n",
            "\n",
            "See the caveats in the documentation: https://pandas.pydata.org/pandas-docs/stable/user_guide/indexing.html#returning-a-view-versus-a-copy\n",
            "  dataset.Weights = dataset.Weights.apply(lambda x : string_to_list(x))\n",
            "<ipython-input-8-833fb421dc49>:6: SettingWithCopyWarning: \n",
            "A value is trying to be set on a copy of a slice from a DataFrame.\n",
            "Try using .loc[row_indexer,col_indexer] = value instead\n",
            "\n",
            "See the caveats in the documentation: https://pandas.pydata.org/pandas-docs/stable/user_guide/indexing.html#returning-a-view-versus-a-copy\n",
            "  dataset.Prices = dataset.Prices.apply(lambda x : string_to_list(x))\n",
            "<ipython-input-8-833fb421dc49>:7: SettingWithCopyWarning: \n",
            "A value is trying to be set on a copy of a slice from a DataFrame.\n",
            "Try using .loc[row_indexer,col_indexer] = value instead\n",
            "\n",
            "See the caveats in the documentation: https://pandas.pydata.org/pandas-docs/stable/user_guide/indexing.html#returning-a-view-versus-a-copy\n",
            "  dataset['Best picks'] = dataset['Best picks'].apply(lambda x : string_to_list(x))\n"
          ]
        }
      ],
      "source": [
        "#Ignore the warning messages.\n",
        "\n",
        "dataset = dataset.dropna()\n",
        "\n",
        "dataset.Weights = dataset.Weights.apply(lambda x : string_to_list(x))\n",
        "dataset.Prices = dataset.Prices.apply(lambda x : string_to_list(x))\n",
        "dataset['Best picks'] = dataset['Best picks'].apply(lambda x : string_to_list(x))"
      ]
    },
    {
      "cell_type": "markdown",
      "metadata": {
        "id": "61go4NeA7gZU"
      },
      "source": [
        "Now it's time to implement the search algorithms. For each algorithm, a template is provided to you. You can modify this template if you want. But first you should try to go look at all the parameters used, as they are all important. You can also define any number of auxiliary functions you want.\n"
      ]
    },
    {
      "cell_type": "markdown",
      "metadata": {
        "id": "0ER3-7di7ufy"
      },
      "source": [
        "**4. Generate and Test**\n",
        "\n",
        "The Generate and Test algorithm seems to be one of the most resource consuming initially but also very accurate as it generates every single possibility and then proceeds to find the best setup."
      ]
    },
    {
      "cell_type": "code",
      "execution_count": null,
      "metadata": {
        "id": "FqN5dVe7haO0"
      },
      "outputs": [],
      "source": [
        "def gen_and_test(data):\n",
        "\n",
        "  # Merge weight and price\n",
        "  items = []\n",
        "\n",
        "  for i in range(len(data['Weights'])): # Cycle and combine weights and prices and put into an items list\n",
        "    items.append([data['Weights'][i], data['Prices'][i]])\n",
        "\n",
        "  # Variables to return\n",
        "  best_solution_price = 0 # Current best price\n",
        "  best_solution = []  # Current best solution\n",
        "\n",
        "  current_best_weight = 0 # Temp store best weight\n",
        "\n",
        "  for r in range(len(data['Weights'])): # Create all possible combinations from 1 to r amount of items\n",
        "\n",
        "    possibilitiesWeights = list(itertools.combinations(items, r+1)) # Create list of possibilities for a combination size r\n",
        "\n",
        "    #print(possibilitiesWeights)\n",
        "\n",
        "    for possibility in possibilitiesWeights:  # Test each possibility's weight and price\n",
        "\n",
        "      # Initial values\n",
        "      weightSum = 0\n",
        "      priceSum = 0\n",
        "      solution = [0,0,0,0,0]\n",
        "\n",
        "      # load weights selection 1 or 0 into current solution\n",
        "      for i in range(len(data['Weights'])):\n",
        "\n",
        "        for pair in possibility:  # Cycle through all pairs in the current possibility calculation\n",
        "\n",
        "          if pair[0] == data['Weights'][i] and pair[1] == data['Prices'][i]:   # Find position in data input list\n",
        "            solution[i] = 1 # Change to 1 status\n",
        "\n",
        "      # Calculate possibility's total weight and price\n",
        "      for i in range(len(possibility)):\n",
        "        #print(possibility)\n",
        "        weightSum += possibility[i][0]\n",
        "        priceSum += possibility[i][1]\n",
        "\n",
        "        # set 1 or 0 for weights used from data['Weights']\n",
        "\n",
        "        if weightSum > data['Capacity']:  # Stop calculating and abort current possibility since overweight\n",
        "          break\n",
        "\n",
        "        if priceSum > best_solution_price and weightSum >= current_best_weight and len(possibility) > len(best_solution): # Set current as best solution since it is better than current price-weight\n",
        "          best_solution_price = priceSum\n",
        "          current_best_weight = weightSum\n",
        "\n",
        "          best_solution = solution\n",
        "\n",
        "  #print(best_solution_price)\n",
        "  #print(best_solution)\n",
        "  return best_solution_price, best_solution\n",
        "\n"
      ]
    },
    {
      "cell_type": "code",
      "execution_count": null,
      "metadata": {
        "colab": {
          "base_uri": "https://localhost:8080/"
        },
        "id": "xQyI_WRShaO0",
        "outputId": "030fba54-0b48-441e-8179-dd4c93d94150"
      },
      "outputs": [
        {
          "name": "stdout",
          "output_type": "stream",
          "text": [
            "Run Time:  20.30918836593628\n"
          ]
        }
      ],
      "source": [
        "solutions = []\n",
        "startTime = time.time() # Added start time\n",
        "for _, row in dataset.iterrows():\n",
        "    target = row['Best price']\n",
        "    solution, indexes = gen_and_test(row)\n",
        "    solutions.append(1 if target == solution else 0)\n",
        "endTime = time.time()\n",
        "genTestRuntime = endTime - startTime\n",
        "print(\"Run Time: \", genTestRuntime)"
      ]
    },
    {
      "cell_type": "code",
      "execution_count": null,
      "metadata": {
        "colab": {
          "base_uri": "https://localhost:8080/"
        },
        "id": "yodeAYV3haO0",
        "outputId": "19ac0cc3-c744-4dac-ec84-a17e555e1194"
      },
      "outputs": [
        {
          "name": "stdout",
          "output_type": "stream",
          "text": [
            "Accuracy of best prices found is 0.07915780949488814\n"
          ]
        }
      ],
      "source": [
        "# Accuracy\n",
        "print('Accuracy of best prices found is', np.mean(solutions))"
      ]
    },
    {
      "cell_type": "markdown",
      "metadata": {
        "id": "sgYGIJMd-atd"
      },
      "source": [
        "**Your Analysis:**\n",
        "For my implementation of Gen and Test, I tried to find the option with the most items in the bag and at the best price. I believe it went quite well but was running at over O(n^4) time. I believe that it could have been implemented in a run time lower than O(n^4), but for this experiment, only calculating an accuracy is needed.\n",
        "\n",
        "Current runtime, which is expected to be long, is ~20.31 seconds.\n",
        "\n",
        "Based on testing, there are over 5000 rows in the dataset csv and through my implementation, I somehow got a low accuracy score, despite the algorithm generating all possibilities. The accuracy should be closer to 1.\n",
        "\n",
        "This could be a logic error somewhere in the algorithm implementation."
      ]
    },
    {
      "cell_type": "markdown",
      "metadata": {
        "id": "z8_ipXOGhaO1"
      },
      "source": [
        "**5. Greedy Search**\n",
        "\n",
        "Greedy Search works by calculating the best \"deal\" (Price per weight) and using that as the benchmark for getting a solution. This works, but of course ignores other potential options and only goes with the ones where the best \"deals\" are available for item selection."
      ]
    },
    {
      "cell_type": "code",
      "execution_count": null,
      "metadata": {
        "id": "bAfwGLDkhaO2"
      },
      "outputs": [],
      "source": [
        "def greedy(data):\n",
        "\n",
        "  profitPerWeight = []\n",
        "\n",
        "  # Merge weight and price and profit per weight\n",
        "  items = []\n",
        "\n",
        "  for i in range(len(data['Weights'])): # Cycle and combine weights and prices and put into an items list\n",
        "    items.append([data['Weights'][i], data['Prices'][i], data['Prices'][i]/data['Weights'][i]])\n",
        "\n",
        "  # Sort by smallest to largest profit per weight\n",
        "  items = sorted(items, key=lambda items: items[2], reverse=True)\n",
        "\n",
        "  #print(items)\n",
        "\n",
        "  # Create knapsack of stuff\n",
        "  best_solution_price = 0\n",
        "  best_solution = [0, 0, 0, 0, 0]\n",
        "\n",
        "  capacityLeft = data['Capacity']\n",
        "\n",
        "  for i in range(len(items)):  # Pick through objects in items\n",
        "    if items[i][0] <= capacityLeft: # Check if still room in bag\n",
        "      best_solution[i] = 1  # Toggle solution 0 position to 1\n",
        "      best_solution_price += items[i][1]  # Add to price\n",
        "      capacityLeft = capacityLeft - items[i][0] # Subtract item from capacity left\n",
        "\n",
        "  return best_solution_price, best_solution\n"
      ]
    },
    {
      "cell_type": "markdown",
      "metadata": {
        "id": "5rQYdUQx-dGi"
      },
      "source": [
        "------------------------------------------------------------------------------------------------\n",
        "\n"
      ]
    },
    {
      "cell_type": "code",
      "execution_count": null,
      "metadata": {
        "colab": {
          "base_uri": "https://localhost:8080/"
        },
        "id": "QeS54aqAhwhU",
        "outputId": "5b2ab18a-bb5b-4fb3-fc94-2e804b496d4a"
      },
      "outputs": [
        {
          "name": "stdout",
          "output_type": "stream",
          "text": [
            "Runtime:  1.1791775226593018\n"
          ]
        }
      ],
      "source": [
        "solutions_greedy = []\n",
        "startTime = time.time()\n",
        "for _, row in dataset.iterrows():\n",
        "    target = row['Best price']\n",
        "    solution, indexes = greedy(row)\n",
        "    solutions_greedy.append(1 if target == solution else 0)\n",
        "endTime = time.time()\n",
        "greedyRuntime = endTime - startTime\n",
        "print(\"Runtime: \", greedyRuntime)"
      ]
    },
    {
      "cell_type": "code",
      "execution_count": null,
      "metadata": {
        "colab": {
          "base_uri": "https://localhost:8080/"
        },
        "id": "xWqCDMs-h0SX",
        "outputId": "ac52a25e-1408-497d-b3fb-e6c9cb3c6875"
      },
      "outputs": [
        {
          "name": "stdout",
          "output_type": "stream",
          "text": [
            "Greedy Accuracy is 0.8341937443061038\n"
          ]
        }
      ],
      "source": [
        "print(\"Greedy Accuracy is\", np.mean(solutions_greedy))"
      ]
    },
    {
      "cell_type": "markdown",
      "metadata": {
        "id": "0DKep6e5-nuz"
      },
      "source": [
        "**Your Analysis:**"
      ]
    },
    {
      "cell_type": "markdown",
      "metadata": {
        "id": "XGBWQqlK-lra"
      },
      "source": [
        "------------------------------------------------------------------------------------------------\n",
        "\n",
        "For Greedy Search, it seems to be a bit more accurate for solutions.\n",
        "\n",
        "Due to the lack of connectivity of lists for weights and prices, they had to be merged and merged again with the ratio of price per weight. Of course, this only took O(n) and the entire algorithm itself only took O(n), making it relatively fast compared to the previous Generate and Test.\n",
        "\n",
        "The runtime for Greedy is ~1.18 seconds.\n",
        "\n",
        "It seems to also be quite accurate as I did not manage to mess up the logic implementation for Greedy as I somehow did with Generate and Test and got an accuracy closer to 1."
      ]
    },
    {
      "cell_type": "markdown",
      "metadata": {
        "id": "PtDW2ja3R93S"
      },
      "source": [
        "**6. Simulated Annealing**\n",
        "\n",
        "Simulated Annealing works like a map/graph system that moves a general \"cursor\" aka the testing step around the data bounds to find the best \"position\", which should give the ideal price and weights."
      ]
    },
    {
      "cell_type": "code",
      "execution_count": null,
      "metadata": {
        "id": "7rFhuXedSF_3"
      },
      "outputs": [],
      "source": [
        "import random\n",
        "import math\n",
        "\n",
        "from numpy import asarray, exp\n",
        "from numpy.random import randn, rand, seed\n",
        "\n",
        "# With the help of Machine Learning Mysteries to calculate a score (See references below)\n",
        "\n",
        "def objective(step):  # Objective score\n",
        "  return step[0] ** 2\n",
        "\n",
        "def simulated_annealing(data, N, initial_temperature, cooling_rate):\n",
        "\n",
        "  # Note: We are moving weights and prices together to match up their indice values for comparing\n",
        "  items = []\n",
        "\n",
        "  # Merge weights and prices\n",
        "  for i in range(len(data['Weights'])): # Cycle and combine weights and prices and put into an items list\n",
        "    items.append([data['Weights'][i], data['Prices'][i], data['Prices'][i]/data['Weights'][i]])\n",
        "\n",
        "  # Convert to numpy array to be worked on according to algorithm by MachineLearningMysteries\n",
        "  weights = asarray([data['Weights']])\n",
        "  prices = asarray([data['Prices']])\n",
        "\n",
        "  # Get the starting point\n",
        "  bestWeights = weights[:, 0] + rand(len(weights)) * (weights[:, 1] - weights[:, 0])  # Create starting point for weights\n",
        "  bestPrices = prices[:, 0] + rand(len(prices)) * (prices[:, 1] - prices[:, 0])  # Create starting point for prices\n",
        "\n",
        "\n",
        "  # Simulated Annealing\n",
        "\n",
        "  #Stepping\n",
        "  bestEvalWeights = objective(bestWeights)\n",
        "  bestEvalPrices = objective(bestPrices)\n",
        "\n",
        "  # Set current position\n",
        "  currentWeights, currentEvalWeights = bestWeights, bestEvalWeights\n",
        "  currentPrices, currentEvalPrices = bestPrices, bestEvalPrices\n",
        "\n",
        "  # Run iterations N\n",
        "  for i in range(N):\n",
        "\n",
        "    # Create test step\n",
        "    stepWeights = currentWeights + randn(len(data['Weights'])) * cooling_rate\n",
        "    stepEvalWeights = objective(stepWeights)\n",
        "\n",
        "    stepPrices = currentPrices + randn(len(data['Prices'])) * cooling_rate\n",
        "    stepEvalPrices = objective(stepPrices)\n",
        "\n",
        "    # check if test step better than best step and meets constraints\n",
        "    if stepEvalWeights < bestEvalWeights and stepEvalWeights <= 40.0 and stepEvalPrices > bestEvalPrices:\n",
        "      # Set new best\n",
        "      bestWeights, bestEvalWeights = stepWeights, stepEvalWeights\n",
        "      bestPrices, bestEvalPrices = stepPrices, stepEvalPrices\n",
        "\n",
        "      #print('Weights: >%d f(%s) = %.5f | Prices: >%d f(%s) = %.5f' % (i, stepWeights, stepEvalWeights, i, stepPrices, stepEvalPrices))\n",
        "\n",
        "    # Calculate difference\n",
        "    differenceWeights = stepEvalWeights - currentEvalWeights\n",
        "    differencePrices = stepEvalPrices - currentEvalPrices\n",
        "\n",
        "    # Calculate temperature\n",
        "    temperature = initial_temperature / float(i + 1)\n",
        "\n",
        "    # Calculate metropolis\n",
        "    metroWeights = exp(-differenceWeights/temperature)\n",
        "    metroPrices = exp(-differencePrices/temperature)\n",
        "\n",
        "    # Check if difference and metro values allow change of current to the test step\n",
        "    if differencePrices < 0 or rand() < metroPrices:\n",
        "      currentWeights, currentEvalWeights = stepWeights, stepEvalWeights\n",
        "      currentPrices, currentEvalPrices = stepPrices, stepEvalPrices\n",
        "\n",
        "  # Assign best for return\n",
        "  best_solution_price = bestEvalPrices\n",
        "  best_solution = bestWeights\n",
        "\n",
        "  #print(best_solution_price, best_solution)\n",
        "\n",
        "  return best_solution_price, best_solution\n"
      ]
    },
    {
      "cell_type": "code",
      "execution_count": null,
      "metadata": {
        "colab": {
          "base_uri": "https://localhost:8080/"
        },
        "id": "mAWQLNsESNIZ",
        "outputId": "a6bc3dcb-f38c-40d8-fce0-39592abb38d1"
      },
      "outputs": [
        {
          "name": "stderr",
          "output_type": "stream",
          "text": [
            "<ipython-input-130-3cf4aa97fb7f>:64: RuntimeWarning: overflow encountered in exp\n",
            "  metroWeights = exp(-differenceWeights/temperature)\n",
            "<ipython-input-130-3cf4aa97fb7f>:65: RuntimeWarning: overflow encountered in exp\n",
            "  metroPrices = exp(-differencePrices/temperature)\n"
          ]
        },
        {
          "name": "stdout",
          "output_type": "stream",
          "text": [
            "Runtime:  3.9890849590301514\n"
          ]
        }
      ],
      "source": [
        "solutions_sa = []\n",
        "startTime = time.time()\n",
        "for _, row in dataset.iterrows():\n",
        "    target = row['Best price']\n",
        "    solution, indexes = simulated_annealing(row, N = 10, initial_temperature=1, cooling_rate=0.95)\n",
        "    solutions_sa.append(1 if target == solution else 0)\n",
        "endTime = time.time()\n",
        "saRuntime = endTime - startTime\n",
        "print(\"Runtime: \", saRuntime)"
      ]
    },
    {
      "cell_type": "code",
      "execution_count": null,
      "metadata": {
        "colab": {
          "base_uri": "https://localhost:8080/"
        },
        "id": "jUdWEABkhkih",
        "outputId": "c15a42f3-578c-46dd-cdf4-1b3d2e614c8e"
      },
      "outputs": [
        {
          "name": "stdout",
          "output_type": "stream",
          "text": [
            "Simulated Annealing Accuracy is 0.0004048992813037757\n"
          ]
        }
      ],
      "source": [
        "print(\"Simulated Annealing Accuracy is\", np.mean(solutions_sa))"
      ]
    },
    {
      "cell_type": "markdown",
      "metadata": {
        "id": "PvvpYOOr-qqr"
      },
      "source": [
        "**Your Analysis:**"
      ]
    },
    {
      "cell_type": "markdown",
      "metadata": {
        "id": "n0QXt7Ys-rCc"
      },
      "source": [
        "------------------------------------------------------------------------------------------------\n",
        "Based on the running of the implemented simulated annealing algorithm, it holds a very very low accuracy of ~0.0004, which I can confidently say is a problem on logic implementation and adapting of the algorithm examples on MachineLearningMysteries.\n",
        "\n",
        "The simulated annealing runs on a 2 axis plotting system for the step testing, the weights and the prices, and apparently it was implemented incorrrectly, as:\n",
        "1. The best solutions in debugging were decimal values despite items being whole items\n",
        "2. The best solution prices were also decimals and lacked any similarity to the best prices in the data set rows.\n",
        "\n",
        "Runtime, however, was ~3.99 seconds, making it a decent algorithm to run if implemented correctly and runs in O(n)."
      ]
    },
    {
      "cell_type": "markdown",
      "metadata": {
        "id": "RHYjBUvVhtGV"
      },
      "source": [
        "**7. Genetic Algorithm**\n",
        "\n",
        "The Genetic Algorithm is based on a swapping and mutation component that casually changes the values of each index until a good solution is found. This requires looping through a parent and its children since derivatives of a parent need to be tested with different mutations to see whether any mutation is better."
      ]
    },
    {
      "cell_type": "code",
      "execution_count": null,
      "metadata": {
        "id": "5kGKKUN8iP30"
      },
      "outputs": [],
      "source": [
        "import random\n",
        "from numpy.random import rand, randint\n",
        "\n",
        "def calculate_fitness(ind, prices, weights, capacity):\n",
        "\n",
        "  fitness = 0\n",
        "  totalWeight = 0\n",
        "  totalPrice = 0\n",
        "\n",
        "  for i in range(len(ind)): # Calculate total weight\n",
        "\n",
        "    # My version of calculating a fitness\n",
        "\n",
        "\n",
        "    if ind[i] == 1: # Check if 1 position in individual sample\n",
        "      totalWeight += weights[i]\n",
        "      totalPrice += prices[i]\n",
        "\n",
        "  if totalWeight <= capacity: # Check if under or equal capacity\n",
        "    fitness += 1  # Raise fitness for being under or equal\n",
        "    fitness += totalPrice # Raise fitness based on price as well\n",
        "\n",
        "  return fitness\n",
        "\n",
        "def crossover(parent1, parent2, cross_rate):\n",
        "  child1, child2 = parent1.copy(), parent2.copy()\n",
        "\n",
        "  if rand() < cross_rate:\n",
        "    point = randint(1, len(parent1)-2)\n",
        "\n",
        "    # Crossover\n",
        "    child1 = parent1[:point] + parent2[point:]\n",
        "    child2 = parent2[:point] + parent1[point:]\n",
        "\n",
        "  return child1, child2\n",
        "\n",
        "def mutation(child, mut_rate):\n",
        "  for i in range(len(child)):\n",
        "    # check for a mutation\n",
        "    if rand() < mut_rate:\n",
        "      # flip the bit\n",
        "      child[i] = 1 - child[i]\n",
        "\n",
        "  return child\n",
        "\n",
        "def selection(population, fitnessScores, size):\n",
        " # first random selection\n",
        " selection_ix = randint(len(population))\n",
        " for ix in randint(0, len(population), size-1):\n",
        "  # check if better (e.g. perform a tournament)\n",
        "  if fitnessScores[ix] < fitnessScores[selection_ix]:\n",
        "    selection_ix = ix\n",
        " return population[selection_ix]\n",
        "\n",
        "def genetic_algorithm(data, population_size, num_generations, mut_rate, cross_rate, tournament_size):\n",
        "\n",
        "  # Generate initial population\n",
        "  population = []\n",
        "\n",
        "  for i in range(population_size):\n",
        "\n",
        "    ind = []\n",
        "\n",
        "    for d in range(len(data['Weights'])):\n",
        "      ind.append(randint(0,1))\n",
        "\n",
        "    population.append(ind)\n",
        "\n",
        "  # Best price\n",
        "  best = 0\n",
        "  bestEval = calculate_fitness(population[0], data['Prices'], data['Weights'], data['Capacity'])\n",
        "\n",
        "  for i in range(num_generations):  # Run iterations\n",
        "\n",
        "    fitnessScores = [calculate_fitness(population[i], data['Prices'], data['Weights'], data['Capacity']) for ind in population]\n",
        "\n",
        "    for n in range(population_size):\n",
        "\n",
        "      if fitnessScores[n] < bestEval:\n",
        "        best, bestEval = population[n], fitnessScores[n]\n",
        "\n",
        "        #print(\">%d, new best f(%s) = %f\" % (i,  population[i], fitnessScores[i]))\n",
        "\n",
        "    select = [selection(population, fitnessScores, tournament_size) for _ in range(num_generations)]\n",
        "\n",
        "    children = []\n",
        "\n",
        "    for n in range(0, len(population), 2):\n",
        "      parent1, parent2 = select[n], select[n+1]\n",
        "\n",
        "      for cross in crossover(parent1, parent2, cross_rate):\n",
        "        mutation(cross, mut_rate)\n",
        "        children.append(cross)\n",
        "    population = children\n",
        "\n",
        "\n",
        "  best_solution = best\n",
        "  best_solution_price = bestEval\n",
        "\n",
        "  #print(best_solution_price)\n",
        "\n",
        "\n",
        "\n",
        "  return best_solution_price, best_solution"
      ]
    },
    {
      "cell_type": "code",
      "execution_count": null,
      "metadata": {
        "colab": {
          "base_uri": "https://localhost:8080/"
        },
        "id": "5b4hBtUijZzg",
        "outputId": "298f031e-ae8c-47e0-c5bd-401c64429e16"
      },
      "outputs": [
        {
          "output_type": "stream",
          "name": "stdout",
          "text": [
            "Runtime:  1001.8043310642242\n"
          ]
        }
      ],
      "source": [
        "solutions_ga = []\n",
        "startTime = time.time()\n",
        "for _, row in dataset.iterrows():\n",
        "    target = row['Best price']\n",
        "    solution, indexes = genetic_algorithm(row, population_size = 50, num_generations = 50, mut_rate = 0.1, cross_rate = 0.7, tournament_size = 5)\n",
        "    solutions_ga.append(1 if target == solution else 0)\n",
        "endTime = time.time()\n",
        "gaRuntime = endTime - startTime\n",
        "print(\"Runtime: \", gaRuntime)"
      ]
    },
    {
      "cell_type": "code",
      "execution_count": null,
      "metadata": {
        "id": "hJ3ceIHSs-W-",
        "colab": {
          "base_uri": "https://localhost:8080/"
        },
        "outputId": "2f902536-d122-41cd-e4a7-fbce473c6291"
      },
      "outputs": [
        {
          "output_type": "stream",
          "name": "stdout",
          "text": [
            "Genetic Algorithm Accuracy is 0.0\n"
          ]
        }
      ],
      "source": [
        "print(\"Genetic Algorithm Accuracy is\", np.mean(solutions_ga))"
      ]
    },
    {
      "cell_type": "markdown",
      "metadata": {
        "id": "5yn8KLah-xGF"
      },
      "source": [
        "**Your Analysis:**"
      ]
    },
    {
      "cell_type": "markdown",
      "metadata": {
        "id": "ekb0LOgF-xUN"
      },
      "source": [
        "------------------------------------------------------------------------------------------------\n",
        "Genetic must be one of the slowest algorithms I've implemented despite being in O(n^2) for runtime. I believe this is due to the ambiguous number of iterations that eventually branch out to test more swaps to determine the best setup.\n",
        "\n",
        "Fitness calculation is relatively straightforward with a custom fitness score function that factors in price and weight. If the weight is over, automatic 0. Price is the most important factor in all the algorithms so it must be part of the fitness score.\n",
        "\n",
        "Run time currently is ~1001.80 seconds due to the sheer amount of children that I had running with the number of iterations in the population.\n",
        "\n",
        "I am quite certain that Genetic was somehow implemented wrong but I cannot figure out where it went wrong. I read through algorithms and attempted to implement it to factor in prices in the fitness score but seems that did little affect."
      ]
    },
    {
      "cell_type": "markdown",
      "metadata": {
        "id": "NdO_H-4t-6mg"
      },
      "source": [
        "**8. Comparative Study**\n",
        "\n",
        "description  +  tables/figures"
      ]
    },
    {
      "cell_type": "markdown",
      "metadata": {
        "id": "4Ypp7TpkAIUe"
      },
      "source": [
        "--------------------------------------------------------------------------\n",
        "After testing all 4 algorithms, these were the results of the experiment:\n",
        "\n",
        "Table 1: Algorithm results\n",
        "\n",
        "| Algorithm           | Big-O  | Runtime (secs) | Accuracy |\n",
        "|---------------------|--------|----------------|----------|\n",
        "| Generate and Test   | O(n^4) | ~20.31         | ~0.079   |\n",
        "| Greedy              | O(n)   | ~1.18          | ~0.834   |\n",
        "| Simulated Annealing | O(n)   | ~3.99          | ~0.0004  |\n",
        "| Genetic             | O(n^5) | ~1001.80       | ~0.0     |\n",
        "\n",
        "The most accurate and fastest algorithm was Greedy Search, with a run time of only ~1.18 and an accuracy of 83.4%.\n",
        "\n",
        "The worst of them all was Genetic with absolutely no accuracy despite factoring in weights and prices for the fitness score. It also had the worst run time of over 16 minutes.\n",
        "\n",
        "Generate and Test, despite being slow, yielded better run time. I assume Genetic truly reached worst-case runtime and Generate and Test with O(n^4) did not reach worst case.\n",
        "\n",
        "Simulated Annealing held a 0.04% accuracy, which I also assume was due to bad implementation of the algorithm to factor in weights and prices.\n",
        "\n"
      ]
    },
    {
      "cell_type": "markdown",
      "metadata": {
        "id": "8Ikmq-si_23Y"
      },
      "source": [
        "**9. Conclusion**\n",
        "\n",
        "Comment on the empirical study, its results, and give ideas for future work."
      ]
    },
    {
      "cell_type": "markdown",
      "metadata": {
        "id": "41s8gvCNABDy"
      },
      "source": [
        "--------------------------------------------------------------------------\n",
        "In conclusion, I think I messed up on 3 algorithms and will need to go to office hours. All these have a degree of complexity and I myself would consider Simulated Annealing to be the one I look forward to using (assuming I implement it right), as it drops a starting step and moves along the dataset arrays.\n",
        "\n",
        "I've tried stable diffusion in the past for AI generated images and I believe Simulated Annealing is quite close to the concept that SD uses.\n",
        "\n",
        "I do not expect anyone to run and verify the run time for Genetic Algorithm as it did take a long time to run through all the mutations of the population."
      ]
    },
    {
      "cell_type": "markdown",
      "metadata": {
        "id": "PtbOgI1q_9a0"
      },
      "source": [
        "**10 References**\n",
        "\n",
        "Make sure you provide references to ALL sources used (articles, code, algorithms).\n",
        "\n",
        "**Generate and Test**\n",
        "- https://www.geeksforgeeks.org/generate-and-test-search/\n",
        "\n",
        "**Greedy**\n",
        "- https://www.geeksforgeeks.org/fractional-knapsack-problem/\n",
        "\n",
        "**Simulated Annealing**\n",
        "- https://www.machinelearningplus.com/machine-learning/simulated-annealing-algorithm-explained-from-scratch-python/#google_vignette\n",
        "- https://machinelearningmastery.com/simulated-annealing-from-scratch-in-python/\n",
        "\n",
        "**Genetic**\n",
        "- https://saturncloud.io/blog/genetic-algorithm-on-a-knapsackalike-optimization-problem/#:~:text=In%20the%20case%20of%20a,weight%20capacity%20of%20any%20knapsack.\n",
        "- https://machinelearningmastery.com/simple-genetic-algorithm-from-scratch-in-python/"
      ]
    },
    {
      "cell_type": "markdown",
      "metadata": {
        "id": "zF9cuDJqF75q"
      },
      "source": [
        "**Hint:** To share a link to your colab notebook, click on \"share\" on the top right. Then, under *General access* , change *Restricted* to \"Anyone with the link\"."
      ]
    }
  ],
  "metadata": {
    "colab": {
      "provenance": []
    },
    "kernelspec": {
      "display_name": "Python 3",
      "language": "python",
      "name": "python3"
    },
    "language_info": {
      "codemirror_mode": {
        "name": "ipython",
        "version": 3
      },
      "file_extension": ".py",
      "mimetype": "text/x-python",
      "name": "python",
      "nbconvert_exporter": "python",
      "pygments_lexer": "ipython3",
      "version": "3.9.10"
    }
  },
  "nbformat": 4,
  "nbformat_minor": 0
}